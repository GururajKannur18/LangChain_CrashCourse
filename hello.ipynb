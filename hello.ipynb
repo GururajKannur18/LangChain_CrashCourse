{
 "cells": [
  {
   "cell_type": "code",
   "execution_count": 1,
   "id": "e81656e7",
   "metadata": {},
   "outputs": [
    {
     "name": "stdout",
     "output_type": "stream",
     "text": [
      "Hello, World from Jupyter!\n"
     ]
    }
   ],
   "source": [
    "print(\"Hello, World from Jupyter!\")\n"
   ]
  },
  {
   "cell_type": "code",
   "execution_count": 2,
   "id": "9118e568",
   "metadata": {},
   "outputs": [
    {
     "name": "stdout",
     "output_type": "stream",
     "text": [
      "Hello World from GenAI Env 🎉\n",
      "Torch version: 2.8.0+cpu\n",
      "CUDA Available: False\n",
      "Random NumPy matrix: [[0.87525349 0.75302936]\n",
      " [0.5382341  0.87030323]]\n",
      "    Name  Score\n",
      "0  Alice     85\n",
      "1    Bob     92\n"
     ]
    }
   ],
   "source": [
    "import torch\n",
    "import numpy as np\n",
    "import pandas as pd\n",
    "\n",
    "print(\"Hello World from GenAI Env 🎉\")\n",
    "print(\"Torch version:\", torch.__version__)\n",
    "print(\"CUDA Available:\", torch.cuda.is_available())\n",
    "print(\"Random NumPy matrix:\", np.random.rand(2,2))\n",
    "\n",
    "data = pd.DataFrame({\"Name\": [\"Alice\",\"Bob\"], \"Score\":[85, 92]})\n",
    "print(data)\n"
   ]
  }
 ],
 "metadata": {
  "kernelspec": {
   "display_name": "genai",
   "language": "python",
   "name": "python3"
  },
  "language_info": {
   "codemirror_mode": {
    "name": "ipython",
    "version": 3
   },
   "file_extension": ".py",
   "mimetype": "text/x-python",
   "name": "python",
   "nbconvert_exporter": "python",
   "pygments_lexer": "ipython3",
   "version": "3.11.13"
  }
 },
 "nbformat": 4,
 "nbformat_minor": 5
}
